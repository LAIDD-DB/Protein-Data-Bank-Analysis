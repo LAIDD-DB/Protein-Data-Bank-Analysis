{
 "cells": [
  {
   "cell_type": "markdown",
   "id": "eb33e02f",
   "metadata": {},
   "source": [
    "# exercise 5: pdb Ramachandran Plot (phi-psi map)"
   ]
  },
  {
   "cell_type": "code",
   "execution_count": 5,
   "id": "7d70e597",
   "metadata": {},
   "outputs": [],
   "source": [
    "import os\n",
    "import numpy as np\n",
    "import gzip\n",
    "import matplotlib.pyplot as plt"
   ]
  },
  {
   "cell_type": "code",
   "execution_count": 6,
   "id": "88be8a2d",
   "metadata": {},
   "outputs": [],
   "source": [
    "data_dir = 'pisces/pdb'\n",
    "list_file = data_dir + '/list.txt'\n",
    "pdb_list = [x.strip().split() for x in open(list_file)]"
   ]
  },
  {
   "cell_type": "code",
   "execution_count": 7,
   "id": "eb5e4dcb",
   "metadata": {},
   "outputs": [],
   "source": [
    "main_atom_list = [' N  ', ' CA ', ' C  ', ' O  ']\n",
    "Res31 = {'ALA': 'A', 'CYS': 'C', 'ASP': 'D', 'GLU': 'E', 'PHE': 'F',\n",
    "         'GLY': 'G', 'HIS': 'H', 'ILE': 'I', 'LYS': 'K', 'LEU': 'L',\n",
    "         'MET': 'M', 'ASN': 'N', 'PRO': 'P', 'GLN': 'Q', 'ARG': 'R',\n",
    "         'SER': 'S', 'THR': 'T', 'VAL': 'V', 'TRP': 'W', 'TYR': 'Y', }\n",
    "res_list = Res31.keys()"
   ]
  },
  {
   "cell_type": "code",
   "execution_count": 8,
   "id": "a7998342",
   "metadata": {},
   "outputs": [],
   "source": [
    "def read_pdb(pdb_file):\n",
    "    fp = gzip.open(pdb_file)\n",
    "    lines = fp.readlines()\n",
    "    fp.close()\n",
    "    chain_dict = dict()\n",
    "    atom_coor_dict = dict()\n",
    "\n",
    "    check_m = False\n",
    "    modres_dict = dict()\n",
    "    for line_b in lines:\n",
    "        line = line_b.decode('ascii')\n",
    "        if line[0:10] == 'REMARK 465':\n",
    "            if line[15:27] == 'RES C SSSEQI':\n",
    "                check_m = True\n",
    "                continue\n",
    "            if check_m:\n",
    "                res_name3 = line[15:18]\n",
    "                res_inser = line[22:27]\n",
    "                chain_id = line[19]\n",
    "                if chain_id not in chain_dict:\n",
    "                    chain_dict[chain_id] = dict()\n",
    "                    atom_coor_dict[chain_id] = dict()\n",
    "                chain_dict[chain_id][res_inser] = res_name3\n",
    "                atom_coor_dict[chain_id][res_inser] = dict()\n",
    "\n",
    "        elif line[0:6] == 'MODRES':\n",
    "            res_name3_mod = line[12:15]\n",
    "            res_name3 = line[24:27]\n",
    "            if res_name3_mod not in modres_dict and res_name3 in Res31:\n",
    "                modres_dict[res_name3_mod] = res_name3\n",
    "\n",
    "        elif line[0:6] == 'ATOM  ':\n",
    "            chain_id = line[21]\n",
    "            res_name3 = line[17:20]\n",
    "            res_inser = line[22:27]\n",
    "\n",
    "            alt_loc = line[16]\n",
    "            if alt_loc != ' ' and alt_loc != 'A':\n",
    "                continue\n",
    "\n",
    "            if chain_id not in chain_dict:\n",
    "                chain_dict[chain_id] = dict()\n",
    "                atom_coor_dict[chain_id] = dict()\n",
    "            if res_name3 not in Res31:\n",
    "                continue\n",
    "            if res_inser not in chain_dict[chain_id]:\n",
    "                chain_dict[chain_id][res_inser] = res_name3\n",
    "                atom_coor_dict[chain_id][res_inser] = dict()\n",
    "\n",
    "            atom_name = line[12:16]\n",
    "\n",
    "            if atom_name in main_atom_list:\n",
    "                coor = (line[30:38], line[38:46], line[46:54])\n",
    "                coor = np.array(coor, dtype=np.float64)\n",
    "                atom_coor_dict[chain_id][res_inser][atom_name] = coor\n",
    "\n",
    "        elif line[0:6] == 'HETATM':\n",
    "            chain_id = line[21]\n",
    "            res_name3 = line[17:20]\n",
    "            res_inser = line[22:27]\n",
    "            alt_loc = line[16]\n",
    "            if alt_loc != ' ' and alt_loc != 'A':\n",
    "                continue\n",
    "\n",
    "            if chain_id not in chain_dict:\n",
    "                chain_dict[chain_id] = dict()\n",
    "                atom_coor_dict[chain_id] = dict()\n",
    "            if res_name3 not in modres_dict:\n",
    "                continue\n",
    "\n",
    "            if res_inser not in chain_dict[chain_id]:\n",
    "                chain_dict[chain_id][res_inser] = res_name3\n",
    "                atom_coor_dict[chain_id][res_inser] = dict()\n",
    "\n",
    "            atom_name = line[12:16]\n",
    "            if atom_name in main_atom_list:\n",
    "                coor = (line[30:38], line[38:46], line[46:54])\n",
    "                coor = np.array(coor, dtype=np.float64)\n",
    "                atom_coor_dict[chain_id][res_inser][atom_name] = coor\n",
    "\n",
    "    return chain_dict, atom_coor_dict, modres_dict"
   ]
  },
  {
   "cell_type": "code",
   "execution_count": 9,
   "id": "f91ce3a6",
   "metadata": {},
   "outputs": [],
   "source": [
    "def cal_angle(pos_1, pos_2, pos_3):\n",
    "    va = pos_1 - pos_2\n",
    "    vb = pos_3 - pos_2\n",
    "    vc = va + vb\n",
    "    a2 = va.dot(va)\n",
    "    b2 = vb.dot(vb)\n",
    "    a = np.sqrt(a2)\n",
    "    b = np.sqrt(b2)\n",
    "    c2 = vc.dot(vc)\n",
    "    cos_angle = (c2 - a2 - b2) / (2*a*b)\n",
    "    angle = np.arccos(cos_angle)\n",
    "    return 180 * angle / np.pi"
   ]
  },
  {
   "cell_type": "code",
   "execution_count": 10,
   "id": "d872511d",
   "metadata": {},
   "outputs": [],
   "source": [
    "def cal_normal_vector(pos_1, pos_2, pos_3):\n",
    "    va = pos_2 - pos_1\n",
    "    vb = pos_3 - pos_2\n",
    "    vp = np.cross(va, vb)\n",
    "    p = np.linalg.norm(vp)\n",
    "    return vp/p"
   ]
  },
  {
   "cell_type": "code",
   "execution_count": 11,
   "id": "6ae9be35",
   "metadata": {},
   "outputs": [],
   "source": [
    "def cal_torsional_angle(pos_1, pos_2, pos_3, pos_4):\n",
    "    na = cal_normal_vector(pos_1, pos_2, pos_3)\n",
    "    nb = cal_normal_vector(pos_2, pos_3, pos_4)\n",
    "    vc = nb+na\n",
    "    a2 = na.dot(na)\n",
    "    b2 = nb.dot(nb)\n",
    "    a = np.sqrt(a2)\n",
    "    b = np.sqrt(b2)\n",
    "    c2 = vc.dot(vc)\n",
    "    cos_angle = (c2 - a2 - b2) / (2*a*b)\n",
    "\n",
    "    vd = np.cross(na, nb)\n",
    "    nd = vd/np.linalg.norm(vd)\n",
    "    v32 = pos_3-pos_2\n",
    "    n32 = v32/np.linalg.norm(v32)\n",
    "    z = n32.dot(nd)\n",
    "    angle = np.arccos(cos_angle)\n",
    "    angle2 = z*180 * angle / np.pi\n",
    "\n",
    "    return angle2"
   ]
  },
  {
   "cell_type": "code",
   "execution_count": 12,
   "id": "09c9adc6",
   "metadata": {},
   "outputs": [],
   "source": [
    "def cal_single(chain_dict, atom_coor_dict, modres_dict, chain_id, res_angle_dict):\n",
    "    keys = sorted(chain_dict[chain_id].keys())\n",
    "    num_keys = len(keys)\n",
    "    for i in range(num_keys):\n",
    "        key = keys[i]\n",
    "        res_name = chain_dict[chain_id][key]\n",
    "        if res_name in modres_dict:\n",
    "            res_name = modres_dict[res_name]\n",
    "\n",
    "        res_dict = atom_coor_dict[chain_id][key]\n",
    "        if ' N  ' in res_dict:\n",
    "            pos_n = res_dict[' N  ']\n",
    "        else:\n",
    "            continue\n",
    "        if ' CA ' in res_dict:\n",
    "            pos_ca = res_dict[' CA ']\n",
    "        else:\n",
    "            continue\n",
    "        if ' C  ' in res_dict:\n",
    "            pos_c = res_dict[' C  ']\n",
    "        else:\n",
    "            continue\n",
    "\n",
    "        angle = cal_angle(pos_n, pos_ca, pos_c)\n",
    "        if i != 0:\n",
    "            key_m = keys[i-1]\n",
    "            res_m_dict = atom_coor_dict[chain_id][key_m]\n",
    "            if ' C  ' in res_m_dict:\n",
    "                pos_cm = res_m_dict[' C  ']\n",
    "                phi = cal_torsional_angle(pos_cm, pos_n, pos_ca, pos_c)\n",
    "            else:\n",
    "                phi = None\n",
    "        else:\n",
    "            phi = None\n",
    "        if i != num_keys-1:\n",
    "            key_p = keys[i+1]\n",
    "            res_p_dict = atom_coor_dict[chain_id][key_p]\n",
    "            if ' N  ' in res_p_dict:\n",
    "                pos_np = res_p_dict[' N  ']\n",
    "                psi = cal_torsional_angle(pos_n, pos_ca, pos_c, pos_np)\n",
    "\n",
    "            else:\n",
    "                psi = None\n",
    "        else:\n",
    "            psi = None\n",
    "\n",
    "        if angle is not None and phi is not None and psi is not None:\n",
    "            res_angle_dict[res_name] += [[angle, phi, psi]]"
   ]
  },
  {
   "cell_type": "code",
   "execution_count": 13,
   "id": "a252edc8",
   "metadata": {},
   "outputs": [
    {
     "name": "stdout",
     "output_type": "stream",
     "text": [
      "No such file pisces/pdb/4/4V4M.pdb.gz\n",
      "No such file pisces/pdb/6/6TAK.pdb.gz\n",
      "No such file pisces/pdb/6/6TN5.pdb.gz\n",
      "No such file pisces/pdb/6/6TWO.pdb.gz\n",
      "No such file pisces/pdb/6/6XTD.pdb.gz\n",
      "No such file pisces/pdb/6/6XTD.pdb.gz\n",
      "No such file pisces/pdb/6/6XY7.pdb.gz\n",
      "No such file pisces/pdb/7/7AF2.pdb.gz\n",
      "No such file pisces/pdb/7/7AVC.pdb.gz\n",
      "No such file pisces/pdb/7/7B6A.pdb.gz\n",
      "No such file pisces/pdb/7/7M1A.pdb.gz\n",
      "No such file pisces/pdb/7/7NQG.pdb.gz\n",
      "No such file pisces/pdb/7/7NZD.pdb.gz\n",
      "No such file pisces/pdb/7/7OLW.pdb.gz\n",
      "No such file pisces/pdb/7/7OMV.pdb.gz\n",
      "No such file pisces/pdb/7/7OS5.pdb.gz\n",
      "No such file pisces/pdb/7/7OST.pdb.gz\n",
      "No such file pisces/pdb/7/7P24.pdb.gz\n",
      "No such file pisces/pdb/7/7P5R.pdb.gz\n",
      "No such file pisces/pdb/7/7PJ4.pdb.gz\n",
      "No such file pisces/pdb/7/7Q4T.pdb.gz\n",
      "No such file pisces/pdb/7/7QYM.pdb.gz\n",
      "No such file pisces/pdb/7/7QYM.pdb.gz\n"
     ]
    }
   ],
   "source": [
    "res_angle_dict = dict()\n",
    "for res_name in res_list:\n",
    "    res_angle_dict[res_name] = list()\n",
    "    \n",
    "num_pdb = len(pdb_list)\n",
    "for i in range(0, num_pdb):\n",
    "    pdb_id = pdb_list[i][0]\n",
    "    chain_id = pdb_list[i][1]\n",
    "    # print(pdb_id)\n",
    "    pdb_file = '%s/%s/%s.pdb.gz' % (data_dir, pdb_id[0], pdb_id)\n",
    "    if not os.path.exists(pdb_file):\n",
    "        print('No such file', pdb_file)\n",
    "        continue\n",
    "    chain_dict, atom_coor_dict, modres_dict = read_pdb(pdb_file)\n",
    "    cal_single(chain_dict, atom_coor_dict, modres_dict, chain_id, res_angle_dict)"
   ]
  },
  {
   "cell_type": "code",
   "execution_count": 14,
   "id": "d9ec76db",
   "metadata": {
    "scrolled": true
   },
   "outputs": [
    {
     "data": {
      "text/plain": [
       "<matplotlib.collections.PathCollection at 0x7f6cb71ab880>"
      ]
     },
     "execution_count": 14,
     "metadata": {},
     "output_type": "execute_result"
    },
    {
     "data": {
      "image/png": "[encoded data removed]",
      "text/plain": [
       "<Figure size 432x288 with 1 Axes>"
      ]
     },
     "metadata": {
      "needs_background": "light"
     },
     "output_type": "display_data"
    }
   ],
   "source": [
    "rama = np.array(res_angle_dict['ALA'])\n",
    "fig1, ax = plt.subplots()\n",
    "ax.set_box_aspect(1)\n",
    "plt.xlim(-180, 180)\n",
    "plt.ylim(-180, 180)\n",
    "plt.xlabel('$\\phi$ (phi)')\n",
    "plt.ylabel('$\\psi$ (psi)')\n",
    "plt.scatter(rama[:, 1], rama[:, 2])"
   ]
  },
  {
   "cell_type": "code",
   "execution_count": 15,
   "id": "9d524240",
   "metadata": {},
   "outputs": [
    {
     "data": {
      "text/plain": [
       "<matplotlib.collections.PathCollection at 0x7f6cb2b8f760>"
      ]
     },
     "execution_count": 15,
     "metadata": {},
     "output_type": "execute_result"
    },
    {
     "data": {
      "image/png": "[encoded data removed]",
      "text/plain": [
       "<Figure size 432x288 with 1 Axes>"
      ]
     },
     "metadata": {
      "needs_background": "light"
     },
     "output_type": "display_data"
    }
   ],
   "source": [
    "rama = np.array(res_angle_dict['GLY'])\n",
    "fig1, ax = plt.subplots()\n",
    "ax.set_box_aspect(1)\n",
    "plt.xlim(-180, 180)\n",
    "plt.ylim(-180, 180)\n",
    "plt.xlabel('$\\phi$ (phi)')\n",
    "plt.ylabel('$\\psi$ (psi)')\n",
    "plt.scatter(rama[:, 1], rama[:, 2])"
   ]
  },
  {
   "cell_type": "code",
   "execution_count": 16,
   "id": "2d4a2a68",
   "metadata": {},
   "outputs": [
    {
     "data": {
      "text/plain": [
       "<matplotlib.collections.PathCollection at 0x7f6cb3cf3d00>"
      ]
     },
     "execution_count": 16,
     "metadata": {},
     "output_type": "execute_result"
    },
    {
     "data": {
      "image/png": "[encoded data removed]",
      "text/plain": [
       "<Figure size 432x288 with 1 Axes>"
      ]
     },
     "metadata": {
      "needs_background": "light"
     },
     "output_type": "display_data"
    }
   ],
   "source": [
    "rama = np.array(res_angle_dict['PRO'])\n",
    "fig1, ax = plt.subplots()\n",
    "ax.set_box_aspect(1)\n",
    "plt.xlim(-180, 180)\n",
    "plt.ylim(-180, 180)\n",
    "plt.xlabel('$\\phi$ (phi)')\n",
    "plt.ylabel('$\\psi$ (psi)')\n",
    "plt.scatter(rama[:, 1], rama[:, 2])"
   ]
  },
  {
   "cell_type": "code",
   "execution_count": null,
   "id": "5ec4f810",
   "metadata": {},
   "outputs": [],
   "source": []
  }
 ],
 "metadata": {
  "kernelspec": {
   "display_name": "pdb",
   "language": "python",
   "name": "pdb"
  },
  "language_info": {
   "codemirror_mode": {
    "name": "ipython",
    "version": 3
   },
   "file_extension": ".py",
   "mimetype": "text/x-python",
   "name": "python",
   "nbconvert_exporter": "python",
   "pygments_lexer": "ipython3",
   "version": "3.10.5"
  }
 },
 "nbformat": 4,
 "nbformat_minor": 5
}
