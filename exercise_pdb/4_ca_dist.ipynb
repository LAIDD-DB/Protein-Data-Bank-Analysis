{
 "cells": [
  {
   "cell_type": "markdown",
   "id": "50e41e74",
   "metadata": {},
   "source": [
    "# exercise 4: C alpha distance histogram"
   ]
  },
  {
   "cell_type": "code",
   "execution_count": 15,
   "id": "7ec6c622",
   "metadata": {},
   "outputs": [],
   "source": [
    "import os\n",
    "import numpy as np\n",
    "import gzip\n",
    "import matplotlib.pyplot as plt"
   ]
  },
  {
   "cell_type": "code",
   "execution_count": 16,
   "id": "9e0f641e",
   "metadata": {},
   "outputs": [],
   "source": [
    "data_dir = 'pisces/pdb'\n",
    "list_file = data_dir + '/list.txt'\n",
    "pdb_list = [x.strip().split() for x in open(list_file)]"
   ]
  },
  {
   "cell_type": "code",
   "execution_count": 18,
   "id": "530a65f1",
   "metadata": {},
   "outputs": [],
   "source": [
    "main_atom_list = [' N  ', ' CA ', ' C  ', ' O  ']\n",
    "Res31 = {'ALA': 'A', 'CYS': 'C', 'ASP': 'D', 'GLU': 'E', 'PHE': 'F',\n",
    "         'GLY': 'G', 'HIS': 'H', 'ILE': 'I', 'LYS': 'K', 'LEU': 'L',\n",
    "         'MET': 'M', 'ASN': 'N', 'PRO': 'P', 'GLN': 'Q', 'ARG': 'R',\n",
    "         'SER': 'S', 'THR': 'T', 'VAL': 'V', 'TRP': 'W', 'TYR': 'Y', }\n",
    "res_list = Res31.keys()"
   ]
  },
  {
   "cell_type": "code",
   "execution_count": 19,
   "id": "9b1b0d19",
   "metadata": {},
   "outputs": [],
   "source": [
    "def read_pdb(pdb_file):\n",
    "    fp = gzip.open(pdb_file)\n",
    "    lines = fp.readlines()\n",
    "    fp.close()\n",
    "    chain_dict = dict()\n",
    "    atom_coor_dict = dict()\n",
    "\n",
    "    check_m = False\n",
    "    modres_dict = dict()\n",
    "    for line_b in lines:\n",
    "        line = line_b.decode('ascii')\n",
    "        if line[0:10] == 'REMARK 465':\n",
    "            if line[15:27] == 'RES C SSSEQI':\n",
    "                check_m = True\n",
    "                continue\n",
    "            if check_m:\n",
    "                res_name3 = line[15:18]\n",
    "                res_inser = line[22:27]\n",
    "                chain_id = line[19]\n",
    "                if chain_id not in chain_dict:\n",
    "                    chain_dict[chain_id] = dict()\n",
    "                    atom_coor_dict[chain_id] = dict()\n",
    "                chain_dict[chain_id][res_inser] = res_name3\n",
    "                atom_coor_dict[chain_id][res_inser] = dict()\n",
    "\n",
    "        elif line[0:6] == 'MODRES':\n",
    "            res_name3_mod = line[12:15]\n",
    "            res_name3 = line[24:27]\n",
    "            if res_name3_mod not in modres_dict and res_name3 in Res31:\n",
    "                modres_dict[res_name3_mod] = res_name3\n",
    "\n",
    "        elif line[0:6] == 'ATOM  ':\n",
    "            chain_id = line[21]\n",
    "            res_name3 = line[17:20]\n",
    "            res_inser = line[22:27]\n",
    "\n",
    "            alt_loc = line[16]\n",
    "            if alt_loc != ' ' and alt_loc != 'A':\n",
    "                continue\n",
    "\n",
    "            if chain_id not in chain_dict:\n",
    "                chain_dict[chain_id] = dict()\n",
    "                atom_coor_dict[chain_id] = dict()\n",
    "            if res_name3 not in Res31:\n",
    "                continue\n",
    "            if res_inser not in chain_dict[chain_id]:\n",
    "                chain_dict[chain_id][res_inser] = res_name3\n",
    "                atom_coor_dict[chain_id][res_inser] = dict()\n",
    "\n",
    "            atom_name = line[12:16]\n",
    "\n",
    "            if atom_name in main_atom_list:\n",
    "                coor = (line[30:38], line[38:46], line[46:54])\n",
    "                coor = np.array(coor, dtype=np.float64)\n",
    "                atom_coor_dict[chain_id][res_inser][atom_name] = coor\n",
    "\n",
    "        elif line[0:6] == 'HETATM':\n",
    "            chain_id = line[21]\n",
    "            res_name3 = line[17:20]\n",
    "            res_inser = line[22:27]\n",
    "            alt_loc = line[16]\n",
    "            if alt_loc != ' ' and alt_loc != 'A':\n",
    "                continue\n",
    "\n",
    "            if chain_id not in chain_dict:\n",
    "                chain_dict[chain_id] = dict()\n",
    "                atom_coor_dict[chain_id] = dict()\n",
    "            if res_name3 not in modres_dict:\n",
    "                continue\n",
    "\n",
    "            if res_inser not in chain_dict[chain_id]:\n",
    "                chain_dict[chain_id][res_inser] = res_name3\n",
    "                atom_coor_dict[chain_id][res_inser] = dict()\n",
    "\n",
    "            atom_name = line[12:16]\n",
    "            if atom_name in main_atom_list:\n",
    "                coor = (line[30:38], line[38:46], line[46:54])\n",
    "                coor = np.array(coor, dtype=np.float64)\n",
    "                atom_coor_dict[chain_id][res_inser][atom_name] = coor\n",
    "\n",
    "    return chain_dict, atom_coor_dict, modres_dict"
   ]
  },
  {
   "cell_type": "code",
   "execution_count": 21,
   "id": "e652ea74",
   "metadata": {},
   "outputs": [],
   "source": [
    "def cal_single(chain_dict, atom_coor_dict, modres_dict, chain_id, ca_dist_dict):\n",
    "    keys = sorted(chain_dict[chain_id].keys())\n",
    "    num_keys = len(keys)\n",
    "    for i in range(num_keys):\n",
    "\n",
    "        key = keys[i]\n",
    "        res_name = chain_dict[chain_id][key]\n",
    "        if res_name in modres_dict:\n",
    "            res_name = modres_dict[res_name]\n",
    "\n",
    "        res_dict = atom_coor_dict[chain_id][key]\n",
    "        if ' CA ' in res_dict:\n",
    "            pos_ca = res_dict[' CA ']\n",
    "        else:\n",
    "            continue\n",
    "        for j in range(1,6):\n",
    "            if i+j <= num_keys-1:\n",
    "                key_j = keys[i+j]\n",
    "            else:\n",
    "                continue\n",
    "            res_j_dict = atom_coor_dict[chain_id][key_j]\n",
    "            if ' CA ' in res_j_dict:\n",
    "                pos_j_ca = res_j_dict[' CA ']\n",
    "                dist = np.linalg.norm(pos_ca - pos_j_ca)\n",
    "                ca_dist_dict[j] += [dist]"
   ]
  },
  {
   "cell_type": "code",
   "execution_count": 23,
   "id": "95f7d211",
   "metadata": {},
   "outputs": [
    {
     "name": "stdout",
     "output_type": "stream",
     "text": [
      "No such file pisces/pdb/4/4V4M.pdb.gz\n",
      "No such file pisces/pdb/6/6TAK.pdb.gz\n",
      "No such file pisces/pdb/6/6TN5.pdb.gz\n",
      "No such file pisces/pdb/6/6TWO.pdb.gz\n",
      "No such file pisces/pdb/6/6XTD.pdb.gz\n",
      "No such file pisces/pdb/6/6XTD.pdb.gz\n",
      "No such file pisces/pdb/6/6XY7.pdb.gz\n",
      "No such file pisces/pdb/7/7AF2.pdb.gz\n",
      "No such file pisces/pdb/7/7AVC.pdb.gz\n",
      "No such file pisces/pdb/7/7B6A.pdb.gz\n",
      "No such file pisces/pdb/7/7M1A.pdb.gz\n",
      "No such file pisces/pdb/7/7NQG.pdb.gz\n",
      "No such file pisces/pdb/7/7NZD.pdb.gz\n",
      "No such file pisces/pdb/7/7OLW.pdb.gz\n",
      "No such file pisces/pdb/7/7OMV.pdb.gz\n",
      "No such file pisces/pdb/7/7OS5.pdb.gz\n",
      "No such file pisces/pdb/7/7OST.pdb.gz\n",
      "No such file pisces/pdb/7/7P24.pdb.gz\n",
      "No such file pisces/pdb/7/7P5R.pdb.gz\n",
      "No such file pisces/pdb/7/7PJ4.pdb.gz\n",
      "No such file pisces/pdb/7/7Q4T.pdb.gz\n",
      "No such file pisces/pdb/7/7QYM.pdb.gz\n",
      "No such file pisces/pdb/7/7QYM.pdb.gz\n"
     ]
    }
   ],
   "source": [
    "ca_dist_dict = dict()\n",
    "for j in range(1,6):\n",
    "    ca_dist_dict[j] = list()\n",
    "\n",
    "num_pdb = len(pdb_list)\n",
    "for i in range(0, num_pdb):\n",
    "    pdb_id = pdb_list[i][0]\n",
    "    chain_id = pdb_list[i][1]\n",
    "    pdb_file = '%s/%s/%s.pdb.gz' % (data_dir, pdb_id[0], pdb_id)\n",
    "    if not os.path.exists(pdb_file):\n",
    "        print('No such file', pdb_file)\n",
    "        continue\n",
    "    chain_dict, atom_coor_dict, modres_dict = read_pdb(pdb_file)\n",
    "    cal_single(chain_dict, atom_coor_dict, modres_dict, chain_id, ca_dist_dict)"
   ]
  },
  {
   "cell_type": "code",
   "execution_count": 29,
   "id": "1496ceaa",
   "metadata": {},
   "outputs": [
    {
     "data": {
      "image/png": "[encoded data removed]",
      "text/plain": [
       "<Figure size 432x288 with 1 Axes>"
      ]
     },
     "metadata": {
      "needs_background": "light"
     },
     "output_type": "display_data"
    }
   ],
   "source": [
    "bins = np.arange(2,5,0.1)\n",
    "a = plt.hist(ca_dist_dict[1], bins, density=True)"
   ]
  },
  {
   "cell_type": "code",
   "execution_count": 30,
   "id": "c7902182",
   "metadata": {},
   "outputs": [
    {
     "data": {
      "image/png": "[encoded data removed]",
      "text/plain": [
       "<Figure size 432x288 with 1 Axes>"
      ]
     },
     "metadata": {
      "needs_background": "light"
     },
     "output_type": "display_data"
    }
   ],
   "source": [
    "bins = np.arange(3,8,0.1)\n",
    "a2 = plt.hist(ca_dist_dict[2], bins, density=True)"
   ]
  },
  {
   "cell_type": "code",
   "execution_count": 31,
   "id": "8af19aff",
   "metadata": {},
   "outputs": [
    {
     "data": {
      "image/png": "[encoded data removed]",
      "text/plain": [
       "<Figure size 432x288 with 1 Axes>"
      ]
     },
     "metadata": {
      "needs_background": "light"
     },
     "output_type": "display_data"
    }
   ],
   "source": [
    "bins = np.arange(3,12,0.1)\n",
    "a3 = plt.hist(ca_dist_dict[3], bins, density=True)"
   ]
  },
  {
   "cell_type": "code",
   "execution_count": 32,
   "id": "88b0ad30",
   "metadata": {},
   "outputs": [
    {
     "data": {
      "image/png": "[encoded data removed]",
      "text/plain": [
       "<Figure size 432x288 with 1 Axes>"
      ]
     },
     "metadata": {
      "needs_background": "light"
     },
     "output_type": "display_data"
    }
   ],
   "source": [
    "bins = np.arange(3,15,0.1)\n",
    "a4 = plt.hist(ca_dist_dict[4], bins, density=True)"
   ]
  },
  {
   "cell_type": "code",
   "execution_count": 33,
   "id": "0b7ca779",
   "metadata": {},
   "outputs": [
    {
     "data": {
      "image/png": "[encoded data removed]",
      "text/plain": [
       "<Figure size 432x288 with 1 Axes>"
      ]
     },
     "metadata": {
      "needs_background": "light"
     },
     "output_type": "display_data"
    }
   ],
   "source": [
    "bins = np.arange(3,18,0.1)\n",
    "a5 = plt.hist(ca_dist_dict[5], bins, density=True)"
   ]
  },
  {
   "cell_type": "code",
   "execution_count": 34,
   "id": "58567b69",
   "metadata": {},
   "outputs": [],
   "source": [
    "def cal_pro(chain_dict, atom_coor_dict, modres_dict, ca_dist_dict):\n",
    "    keys = sorted(chain_dict[chain_id].keys())\n",
    "    num_keys = len(keys)\n",
    "    for i in range(num_keys):\n",
    "\n",
    "        key = keys[i]\n",
    "        res_name = chain_dict[chain_id][key]\n",
    "        if res_name in modres_dict:\n",
    "            res_name = modres_dict[res_name]\n",
    "\n",
    "        res_dict = atom_coor_dict[chain_id][key]\n",
    "        if ' CA ' in res_dict:\n",
    "            pos_ca = res_dict[' CA ']\n",
    "        else:\n",
    "            continue\n",
    "        for j in range(1,2):\n",
    "            if i+j <= num_keys-1:\n",
    "                key_j = keys[i+j]\n",
    "            else:\n",
    "                continue\n",
    "            \n",
    "            res_j_dict = atom_coor_dict[chain_id][key_j]\n",
    "            res_j_name = chain_dict[chain_id][key_j]\n",
    "            if res_j_name in modres_dict:\n",
    "                res_j_name = modres_dict[res_j_name]\n",
    "            if res_j_name != 'PRO':\n",
    "                continue\n",
    "            if ' CA ' in res_j_dict:\n",
    "                pos_j_ca = res_j_dict[' CA ']\n",
    "                dist = np.linalg.norm(pos_ca - pos_j_ca)\n",
    "                ca_dist_dict[j] += [dist]"
   ]
  },
  {
   "cell_type": "code",
   "execution_count": 35,
   "id": "eaceed5a",
   "metadata": {},
   "outputs": [
    {
     "name": "stdout",
     "output_type": "stream",
     "text": [
      "No such file pisces/pdb/4/4V4M.pdb.gz\n",
      "No such file pisces/pdb/6/6TAK.pdb.gz\n",
      "No such file pisces/pdb/6/6TN5.pdb.gz\n",
      "No such file pisces/pdb/6/6TWO.pdb.gz\n",
      "No such file pisces/pdb/6/6XTD.pdb.gz\n",
      "No such file pisces/pdb/6/6XTD.pdb.gz\n",
      "No such file pisces/pdb/6/6XY7.pdb.gz\n",
      "No such file pisces/pdb/7/7AF2.pdb.gz\n",
      "No such file pisces/pdb/7/7AVC.pdb.gz\n",
      "No such file pisces/pdb/7/7B6A.pdb.gz\n",
      "No such file pisces/pdb/7/7M1A.pdb.gz\n",
      "No such file pisces/pdb/7/7NQG.pdb.gz\n",
      "No such file pisces/pdb/7/7NZD.pdb.gz\n",
      "No such file pisces/pdb/7/7OLW.pdb.gz\n",
      "No such file pisces/pdb/7/7OMV.pdb.gz\n",
      "No such file pisces/pdb/7/7OS5.pdb.gz\n",
      "No such file pisces/pdb/7/7OST.pdb.gz\n",
      "No such file pisces/pdb/7/7P24.pdb.gz\n",
      "No such file pisces/pdb/7/7P5R.pdb.gz\n",
      "No such file pisces/pdb/7/7PJ4.pdb.gz\n",
      "No such file pisces/pdb/7/7Q4T.pdb.gz\n",
      "No such file pisces/pdb/7/7QYM.pdb.gz\n",
      "No such file pisces/pdb/7/7QYM.pdb.gz\n"
     ]
    }
   ],
   "source": [
    "ca_dist_pro_dict = dict()\n",
    "for j in range(1,2):\n",
    "    ca_dist_pro_dict[j] = list()\n",
    "\n",
    "num_pdb = len(pdb_list)\n",
    "for i in range(0, num_pdb):\n",
    "    pdb_id = pdb_list[i][0]\n",
    "    chain_id = pdb_list[i][1]\n",
    "    pdb_file = '%s/%s/%s.pdb.gz' % (data_dir, pdb_id[0], pdb_id)\n",
    "    if not os.path.exists(pdb_file):\n",
    "        print('No such file', pdb_file)\n",
    "        continue\n",
    "    chain_dict, atom_coor_dict, modres_dict = read_pdb(pdb_file)\n",
    "    cal_pro(chain_dict, atom_coor_dict, modres_dict, ca_dist_pro_dict)"
   ]
  },
  {
   "cell_type": "code",
   "execution_count": 36,
   "id": "7c4860bc",
   "metadata": {},
   "outputs": [
    {
     "data": {
      "image/png": "[encoded data removed]",
      "text/plain": [
       "<Figure size 432x288 with 1 Axes>"
      ]
     },
     "metadata": {
      "needs_background": "light"
     },
     "output_type": "display_data"
    }
   ],
   "source": [
    "bins = np.arange(2,5,0.1)\n",
    "a_pro = plt.hist(ca_dist_pro_dict[1], bins, density=True)"
   ]
  },
  {
   "cell_type": "code",
   "execution_count": null,
   "id": "d656615c",
   "metadata": {},
   "outputs": [],
   "source": []
  }
 ],
 "metadata": {
  "kernelspec": {
   "display_name": "pdb",
   "language": "python",
   "name": "pdb"
  },
  "language_info": {
   "codemirror_mode": {
    "name": "ipython",
    "version": 3
   },
   "file_extension": ".py",
   "mimetype": "text/x-python",
   "name": "python",
   "nbconvert_exporter": "python",
   "pygments_lexer": "ipython3",
   "version": "3.10.5"
  }
 },
 "nbformat": 4,
 "nbformat_minor": 5
}
